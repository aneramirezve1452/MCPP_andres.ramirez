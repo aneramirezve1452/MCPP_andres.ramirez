{
 "cells": [
  {
   "cell_type": "markdown",
   "metadata": {},
   "source": [
    "# Taller 2\n",
    "Métodos Computacionales para Políticas Públicas - URosario\n",
    "\n",
    "**Entrega: viernes 14-feb-2020 11:59 PM**"
   ]
  },
  {
   "cell_type": "markdown",
   "metadata": {},
   "source": [
    "<div class=\"alert alert-success\">\n",
    "\n",
    "**[Andrés Ramírez]** <br><br>\n",
    "[andrese.ramirez@urosario.edu.co]\n",
    "</div>"
   ]
  },
  {
   "cell_type": "markdown",
   "metadata": {},
   "source": [
    "## Instrucciones:\n",
    "- Guarde una copia de este *Jupyter Notebook* en su computador, idealmente en una carpeta destinada al material del curso.\n",
    "- Modifique el nombre del archivo del *notebook*, agregando al final un guión inferior y su nombre y apellido, separados estos últimos por otro guión inferior. Por ejemplo, mi *notebook* se llamaría: mcpp_taller2_santiago_matallana\n",
    "- Marque el *notebook* con su nombre y e-mail en el bloque verde arriba. Reemplace el texto \"[Su nombre acá]\" con su nombre y apellido. Similar para su e-mail.\n",
    "- Desarrolle la totalidad del taller sobre este *notebook*, insertando las celdas que sea necesario debajo de cada pregunta. Haga buen uso de las celdas para código y de las celdas tipo *markdown* según el caso.\n",
    "- Recuerde salvar periódicamente sus avances.\n",
    "- Cuando termine el taller:\n",
    "    1. Descárguelo en PDF.\n",
    "    2. Suba los dos archivos (.pdf y .ipynb) a su repositorio en GitHub antes de la fecha y hora límites.\n",
    "\n",
    "(El valor de cada ejercicio está en corchetes [ ] después del número de ejercicio.)"
   ]
  },
  {
   "cell_type": "markdown",
   "metadata": {},
   "source": [
    "---"
   ]
  },
  {
   "cell_type": "markdown",
   "metadata": {},
   "source": [
    "## 1. [1]\n",
    "\n",
    "[Pensar como un computador] Considere el siguiente código:"
   ]
  },
  {
   "cell_type": "raw",
   "metadata": {},
   "source": [
    "if x > 2:\n",
    "    if y > 2:\n",
    "        z = x + y\n",
    "        print(\"z es\", z)\n",
    "else:\n",
    "    print(x)"
   ]
  },
  {
   "cell_type": "markdown",
   "metadata": {},
   "source": [
    "¿Cuál es el resultado si\n",
    "\n",
    "a)  x = 2, y = 5?\n",
    "\n",
    "b)  x = 3, y = 1?\n",
    "\n",
    "c)  x = 1, y = 1? \n",
    "\n",
    "d)  x = 4, y = 3?"
   ]
  },
  {
   "cell_type": "code",
   "execution_count": null,
   "metadata": {},
   "outputs": [],
   "source": [
    "Solución "
   ]
  },
  {
   "cell_type": "markdown",
   "metadata": {},
   "source": [
    "a) La respuesta es 2, debido a que x no es mayor a 2, por ende, imprimirá el valor de x\n",
    "\n",
    "b) El código no tendría sentido para la maquina, debido al hecho de que aunque se cumple el condicional para x, no es así para el caso de y. Además, como no se pone un else al if que condiciona el y, la maquina no tendría como dar un resultado. \n",
    "\n",
    "c) En este caso la maquina arrojaria como resultado el 1, por cuanto el valor de x no es mayor a 2. \n",
    "\n",
    "d) En este caso el valor sería 7, pues se cumplirían con las condiciones para hallar z. \n"
   ]
  },
  {
   "cell_type": "markdown",
   "metadata": {},
   "source": [
    "-----"
   ]
  },
  {
   "cell_type": "markdown",
   "metadata": {},
   "source": [
    "## 2. [1]\n",
    "[Pensar como un computador] ¿Cuál es el resultado del siguiente código y cuántas veces se recorre el loop?"
   ]
  },
  {
   "cell_type": "raw",
   "metadata": {},
   "source": [
    "i = 0\n",
    "while i < 10:\n",
    "    i = i + 1\n",
    "    if i % 2 == 0:\n",
    "        print(i)"
   ]
  },
  {
   "cell_type": "markdown",
   "metadata": {},
   "source": [
    "Solución"
   ]
  },
  {
   "cell_type": "markdown",
   "metadata": {},
   "source": [
    "En este caso el loop se recorre cinco veces y daría como resultado los números pares menores o iguales a 10. Esto es, 2,4,6,8 y 10."
   ]
  },
  {
   "cell_type": "markdown",
   "metadata": {},
   "source": [
    "---"
   ]
  },
  {
   "cell_type": "markdown",
   "metadata": {},
   "source": [
    "## 3. [1]\n",
    "[Pensar como un computador] ¿Cuál es el resultado del siguiente código y cuántas veces se recorre el loop?"
   ]
  },
  {
   "cell_type": "raw",
   "metadata": {},
   "source": [
    "i = 0\n",
    "while i > 10:\n",
    "    i = i + 1\n",
    "    if i % 2 == 0:\n",
    "        print(i)"
   ]
  },
  {
   "cell_type": "markdown",
   "metadata": {},
   "source": [
    "Solución"
   ]
  },
  {
   "cell_type": "markdown",
   "metadata": {},
   "source": [
    "En este caso la maquina no podría correr el código o arrojar un resultado. Lo anterior, por cuanto i es igual a cero, entonces, si solo se puede tomar los valores cuando i es mayor a 10, pues no habría manera de hallar un número que haga verdad la expresión que acompaña al while. "
   ]
  },
  {
   "cell_type": "markdown",
   "metadata": {},
   "source": [
    "---"
   ]
  },
  {
   "cell_type": "code",
   "execution_count": null,
   "metadata": {},
   "outputs": [],
   "source": []
  },
  {
   "cell_type": "markdown",
   "metadata": {},
   "source": [
    "## 4.  [2]\n",
    "Escriba un programa que pida al usuario ingresar un número entero, y que imprima \"par\" si el número es par e \"impar\" si el número es impar. Agregue a su programa un código que genere una advertencia en caso de que el usuario ingrese algo diferente a un número entero: \"Error. El usuario debe ingresar un número entero.\" (Investigue por su cuenta cómo lograr dicha validación y la generación del mensaje.)"
   ]
  },
  {
   "cell_type": "markdown",
   "metadata": {},
   "source": [
    "Solución "
   ]
  },
  {
   "cell_type": "code",
   "execution_count": 6,
   "metadata": {},
   "outputs": [
    {
     "name": "stdout",
     "output_type": "stream",
     "text": [
      "Por favor escriba un número entero:  3.1415\n",
      "Error. El usuario debe ingresar un número entero.\n",
      "Por favor escriba un número entero:  3.244556\n",
      "Error. El usuario debe ingresar un número entero.\n",
      "Por favor escriba un número entero:  6.578564\n",
      "Error. El usuario debe ingresar un número entero.\n",
      "Por favor escriba un número entero:  12354.6889\n",
      "Error. El usuario debe ingresar un número entero.\n",
      "Por favor escriba un número entero:  3\n",
      "3 es un número impar.\n"
     ]
    }
   ],
   "source": [
    "a = float(input(\"Por favor escriba un número entero:  \"))\n",
    "\n",
    "b = int (a)\n",
    "\n",
    "while not (a==b):\n",
    "    print(\"Error. El usuario debe ingresar un número entero.\")\n",
    "    a = float(input(\"Por favor escriba un número entero:  \"))\n",
    "if (a == b):  \n",
    "    if (b%2 == 0) and (a == b):\n",
    "        print(f\"{b} es un número par.\")\n",
    "    if not (b%2 == 0) and (a == b):\n",
    "        print(f\"{b} es un número impar.\")"
   ]
  },
  {
   "cell_type": "markdown",
   "metadata": {},
   "source": [
    "---"
   ]
  },
  {
   "cell_type": "markdown",
   "metadata": {},
   "source": [
    "## 5.  [2]\n",
    "Escriba un <font face=\"consolas\">for</font> loop que imprima todos los múltiplos de 3 desde 40 hasta 0 en orden decreciente. Esto es, 39, 36, 33,..., 3, 0."
   ]
  },
  {
   "cell_type": "markdown",
   "metadata": {},
   "source": [
    "Solución"
   ]
  },
  {
   "cell_type": "code",
   "execution_count": 9,
   "metadata": {},
   "outputs": [
    {
     "name": "stdout",
     "output_type": "stream",
     "text": [
      "39\n",
      "36\n",
      "33\n",
      "30\n",
      "27\n",
      "24\n",
      "21\n",
      "18\n",
      "15\n",
      "12\n",
      "9\n",
      "6\n",
      "3\n",
      "0\n",
      "\n"
     ]
    }
   ],
   "source": [
    "for i in range(41,0-1,-1):\n",
    "    if( (i%3)==0 ): \n",
    "        print(i)\n",
    " \n",
    "print(\"\")"
   ]
  },
  {
   "cell_type": "markdown",
   "metadata": {},
   "source": [
    "---"
   ]
  },
  {
   "cell_type": "markdown",
   "metadata": {},
   "source": [
    "## 6. [2]\n",
    "Escriba un loop que imprima todos los números entre 6 y 30 que no son divisibles por 2, 3 o 5."
   ]
  },
  {
   "cell_type": "code",
   "execution_count": 20,
   "metadata": {},
   "outputs": [
    {
     "name": "stdout",
     "output_type": "stream",
     "text": [
      "6 no es divible por 5\n",
      "7 no es divible por 2\n",
      "7 no es divible por 3\n",
      "7 no es divible por 5\n",
      "8 no es divible por 3\n",
      "8 no es divible por 5\n",
      "9 no es divible por 2\n",
      "9 no es divible por 5\n",
      "10 no es divible por 3\n",
      "11 no es divible por 2\n",
      "11 no es divible por 3\n",
      "11 no es divible por 5\n",
      "12 no es divible por 5\n",
      "13 no es divible por 2\n",
      "13 no es divible por 3\n",
      "13 no es divible por 5\n",
      "14 no es divible por 3\n",
      "14 no es divible por 5\n",
      "15 no es divible por 2\n",
      "16 no es divible por 3\n",
      "16 no es divible por 5\n",
      "17 no es divible por 2\n",
      "17 no es divible por 3\n",
      "17 no es divible por 5\n",
      "18 no es divible por 5\n",
      "19 no es divible por 2\n",
      "19 no es divible por 3\n",
      "19 no es divible por 5\n",
      "20 no es divible por 3\n",
      "21 no es divible por 2\n",
      "21 no es divible por 5\n",
      "22 no es divible por 3\n",
      "22 no es divible por 5\n",
      "23 no es divible por 2\n",
      "23 no es divible por 3\n",
      "23 no es divible por 5\n",
      "24 no es divible por 5\n",
      "25 no es divible por 2\n",
      "25 no es divible por 3\n",
      "26 no es divible por 3\n",
      "26 no es divible por 5\n",
      "27 no es divible por 2\n",
      "27 no es divible por 5\n",
      "28 no es divible por 3\n",
      "28 no es divible por 5\n",
      "29 no es divible por 2\n",
      "29 no es divible por 3\n",
      "29 no es divible por 5\n",
      "\n"
     ]
    }
   ],
   "source": [
    "x = 2\n",
    "y = 3\n",
    "z = 5\n",
    "\n",
    "for i in range(6,31):   \n",
    "    if not ((i%x==0)):\n",
    "        print(f\"{i} no es divible por {x}\")\n",
    "    if not ((i%y ==0)):\n",
    "        print(f\"{i} no es divible por {y}\")\n",
    "    if not (i%z==0):\n",
    "        print(f\"{i} no es divible por {z}\")\n",
    "    \n",
    "   \n",
    "    \n",
    " \n",
    "print(\"\")"
   ]
  },
  {
   "cell_type": "markdown",
   "metadata": {},
   "source": [
    "---"
   ]
  },
  {
   "cell_type": "markdown",
   "metadata": {},
   "source": [
    "## 7. [4]\n",
    "Escriba un programa llamado \"Adivine ni número\". El computador generará aleatoriamente un entero entre 1 y 100. El usuario digita un número y el computador responde \"Menor\" si el número aleatorio es menor que el escogido por el usuario, \"Mayor\" si el número aleatorio es mayor, y \"¡Correcto!\" si el usuario adivina el número. El jugador puede continuar ingresando números hasta que adivine correctamente.\n",
    "\n",
    "**Ejemplo:**\n",
    "- El número aleatorio es 79.\n",
    "- El computador muestra el texto \"Adivine el número entre 1 y 100:\" y espera a que el usuario lo digite.\n",
    "- El usuario digita el número que está abajo en itálicas.\n",
    "- El computador devuelve uno de tres textos, según el caso: \"Mayor\", \"Menor\", o \"¡Correcto!\"."
   ]
  },
  {
   "cell_type": "markdown",
   "metadata": {},
   "source": [
    "<font color=\"green\">Adivine el número entre 1 y 100: *40*<br>\n",
    "<font face=\"consolas\">Mayor</font><br><br>\n",
    "Adivine el número entre 1 y 100: *70*<br>\n",
    "<font face=\"consolas\">Mayor</font><br><br>\n",
    "Adivine el número entre 1 y 100: *80*<br>\n",
    "<font face=\"consolas\">Menor</font><br><br>\n",
    "Adivine el número entre 1 y 100: *77*<br>\n",
    "<font face=\"consolas\">Mayor</font><br><br>\n",
    "Adivine el número entre 1 y 100: *79*<br>\n",
    "<font face=\"consolas\">¡Correcto!</font></font>"
   ]
  },
  {
   "cell_type": "markdown",
   "metadata": {},
   "source": [
    "**¿Cómo generar números aleatorios en Python?**\n",
    "\n",
    "- Al comienzo de su programa escriba: <font face=\"consolas\" color=\"green\">import random</font>\n",
    "- Para generar un número aleatorio entre 1 y 100 escriba: <font face=\"consolas\" color=\"green\">random.randint(1, 100)</font>\n"
   ]
  },
  {
   "cell_type": "markdown",
   "metadata": {},
   "source": [
    "**Pistas:**\n",
    "\n",
    "- Piense en qué estructuras de control le sirven para resolver el problema.\n",
    "- ¿Cómo determina si el número es mayor, menor o correcto?\n",
    "- ¿Cómo le da turnos adicionales al usuario para adivinar, dependiendo de si en el turno anterior adivinó o no?"
   ]
  },
  {
   "cell_type": "markdown",
   "metadata": {},
   "source": [
    "Solución "
   ]
  },
  {
   "cell_type": "code",
   "execution_count": 23,
   "metadata": {},
   "outputs": [
    {
     "name": "stdout",
     "output_type": "stream",
     "text": [
      "Introduzca un número: 100\n",
      "El número es menor\n",
      "Introduzca un número: 50\n",
      "El número es menor\n",
      "Introduzca un número: 10\n",
      "El número es mayor\n",
      "Introduzca un número: 30\n",
      "El número es mayor\n",
      "Introduzca un número: 40\n",
      "El número es menor\n",
      "Introduzca un número: 35\n",
      "El número es mayor\n",
      "Introduzca un número: 37\n",
      "El número es mayor\n",
      "Introduzca un número: 38\n",
      " 38 es el número correcto\n"
     ]
    }
   ],
   "source": [
    "import random\n",
    "número = random.randint(1, 100)\n",
    "\n",
    "encontrado = False\n",
    "turno = 0\n",
    " \n",
    "while not encontrado:\n",
    "     \n",
    "    persona = int(input(\"Introduzca un número: \"))\n",
    " \n",
    "    if (persona > número):\n",
    "        print(\"El número es menor\")\n",
    "        turno = turno +1\n",
    "    elif persona < número:\n",
    "        print(\"El número es mayor\")\n",
    "        turno = turno +1\n",
    "    else:\n",
    "        encontrado = True\n",
    "        print(f\" {persona} es el número correcto\")"
   ]
  },
  {
   "cell_type": "markdown",
   "metadata": {},
   "source": [
    "---"
   ]
  }
 ],
 "metadata": {
  "anaconda-cloud": {},
  "kernelspec": {
   "display_name": "Python 3",
   "language": "python",
   "name": "python3"
  },
  "language_info": {
   "codemirror_mode": {
    "name": "ipython",
    "version": 3
   },
   "file_extension": ".py",
   "mimetype": "text/x-python",
   "name": "python",
   "nbconvert_exporter": "python",
   "pygments_lexer": "ipython3",
   "version": "3.7.4"
  }
 },
 "nbformat": 4,
 "nbformat_minor": 1
}
