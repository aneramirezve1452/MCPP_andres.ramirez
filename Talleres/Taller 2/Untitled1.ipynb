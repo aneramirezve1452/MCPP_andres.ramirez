{
 "cells": [
  {
   "cell_type": "code",
   "execution_count": 2,
   "metadata": {},
   "outputs": [],
   "source": [
    "l3 = [-5, -4, -3, -2, -1, 0, 1, 2, 3, 4, 5]"
   ]
  },
  {
   "cell_type": "code",
   "execution_count": 19,
   "metadata": {},
   "outputs": [
    {
     "name": "stdout",
     "output_type": "stream",
     "text": [
      "[-5, -4, -3, -2, -1, 0, 1, 2, 3, 4, 5]\n",
      "[False, False, False, False, False, False, False, False, False, False, False]\n",
      "11\n",
      "[False, False, False, False, False, False, True, True, True, True, True]\n"
     ]
    }
   ],
   "source": [
    "# Crea la lista con el mismo numero de elementos de l3\n",
    "n15 = []\n",
    "for i in l3:\n",
    "    n15.append(False)\n",
    "print(l3)\n",
    "print(n15)\n",
    "\n",
    "# Crea una variable con la longitud de la lista\n",
    "n15_length = len(n15)\n",
    "print(n15_length)\n",
    "\n",
    "# llena la lista dependiendo de la condicion \n",
    "for n in range(0, n15_length):\n",
    "    if (l3[n])>0: n15[n]=True\n",
    "    else: n15[n]=False\n",
    "print(n15)"
   ]
  },
  {
   "cell_type": "code",
   "execution_count": null,
   "metadata": {},
   "outputs": [],
   "source": []
  },
  {
   "cell_type": "code",
   "execution_count": null,
   "metadata": {},
   "outputs": [],
   "source": []
  },
  {
   "cell_type": "code",
   "execution_count": 13,
   "metadata": {},
   "outputs": [
    {
     "name": "stdout",
     "output_type": "stream",
     "text": [
      "[1042, 967, 944, 1016, 999, 1042, 997, 986, 1016, 991]\n"
     ]
    }
   ],
   "source": [
    "#punto 16\n",
    "import random \n",
    "\n",
    "N = 10000\n",
    "random_numbers = []\n",
    "for i in range(N):\n",
    "    random_numbers.append(random.randint(0,9))\n",
    "#print(random_numbers)\n",
    "\n",
    "counter = [0,0,0,0,0,0,0,0,0,0]\n",
    "\n",
    "for i in random_numbers:\n",
    "    for n in range(0,10):\n",
    "        if i==n:\n",
    "            counter[i]=counter[i]+1\n",
    "print(counter)"
   ]
  },
  {
   "cell_type": "code",
   "execution_count": null,
   "metadata": {},
   "outputs": [],
   "source": []
  }
 ],
 "metadata": {
  "kernelspec": {
   "display_name": "Python 3",
   "language": "python",
   "name": "python3"
  },
  "language_info": {
   "codemirror_mode": {
    "name": "ipython",
    "version": 3
   },
   "file_extension": ".py",
   "mimetype": "text/x-python",
   "name": "python",
   "nbconvert_exporter": "python",
   "pygments_lexer": "ipython3",
   "version": "3.7.4"
  }
 },
 "nbformat": 4,
 "nbformat_minor": 2
}
