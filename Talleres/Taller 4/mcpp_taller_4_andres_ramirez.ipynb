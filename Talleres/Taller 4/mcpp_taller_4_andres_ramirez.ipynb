{
 "cells": [
  {
   "cell_type": "markdown",
   "metadata": {},
   "source": [
    "# Taller 4\n",
    "Métodos Computacionales para Políticas Públicas - URosario\n",
    "\n",
    "**Entrega: viernes 28-feb-2020 11:59 PM**"
   ]
  },
  {
   "cell_type": "markdown",
   "metadata": {},
   "source": [
    "<div class=\"alert alert-success\">\n",
    "\n",
    "**[Andrés Ramírez Vela]** <br><br>\n",
    "[andrese.ramirez@urosario.edu.co]\n",
    "</div>"
   ]
  },
  {
   "cell_type": "markdown",
   "metadata": {},
   "source": [
    "## Instrucciones:\n",
    "- Guarde una copia de este *Jupyter Notebook* en su computador, idealmente en una carpeta destinada al material del curso.\n",
    "- Modifique el nombre del archivo del *notebook*, agregando al final un guión inferior y su nombre y apellido, separados estos últimos por otro guión inferior. Por ejemplo, mi *notebook* se llamaría: mcpp_taller4_santiago_matallana\n",
    "- Marque el *notebook* con su nombre y e-mail en el bloque verde arriba. Reemplace el texto \"[Su nombre acá]\" con su nombre y apellido. Similar para su e-mail.\n",
    "- Desarrolle la totalidad del taller sobre este *notebook*, insertando las celdas que sea necesario debajo de cada pregunta. Haga buen uso de las celdas para código y de las celdas tipo *markdown* según el caso.\n",
    "- Recuerde salvar periódicamente sus avances.\n",
    "- Cuando termine el taller:\n",
    "    1. Descárguelo en PDF.\n",
    "    2. Suba los dos archivos (.pdf y .ipynb) a su repositorio en GitHub antes de la fecha y hora límites.\n",
    "\n",
    "(Todos los ejercicios tienen el mismo valor.)"
   ]
  },
  {
   "cell_type": "markdown",
   "metadata": {},
   "source": [
    "---"
   ]
  },
  {
   "cell_type": "markdown",
   "metadata": {},
   "source": [
    "## Zelle, Exercises 6.8 (p. 159):\n",
    "\n",
    "- True/False: 1-10\n",
    "- Multiple choice: 2, 3, 6, 7, 10\n",
    "- Programming Exercises: 1, 3, 4, 11, 12, 13"
   ]
  },
  {
   "cell_type": "raw",
   "metadata": {},
   "source": [
    "True/False\n",
    "\n",
    "1. Falso\n",
    "\n",
    "2. Falso\n",
    "\n",
    "3. Verdadero\n",
    "\n",
    "4. Verdadero\n",
    "\n",
    "5. Falso\n",
    "\n",
    "6. Falso\n",
    "\n",
    "7. Falso\n",
    "\n",
    "8. Verdadero\n",
    "\n",
    "9. Verdadero\n",
    "\n",
    "10. Falso"
   ]
  },
  {
   "cell_type": "raw",
   "metadata": {},
   "source": [
    "Selección Múltiple\n",
    "\n",
    "2. A\n",
    "\n",
    "3. A\n",
    "\n",
    "6. A\n",
    "\n",
    "7. D\n",
    "\n",
    "10. A\n"
   ]
  },
  {
   "cell_type": "raw",
   "metadata": {},
   "source": [
    "Ejercicios de Programación"
   ]
  },
  {
   "cell_type": "code",
   "execution_count": 5,
   "metadata": {},
   "outputs": [
    {
     "name": "stdout",
     "output_type": "stream",
     "text": [
      "Old MacDonald had a farm, Ee-igh, Ei-igh, Oh!\n",
      "And on this farm he had a dog, Ee-igh, Ee-igh, Oh!\n",
      "With a guau, guau here, and a guau, guau there.\n",
      "Here a guau, there a guau, everywhere a guau, guau.\n",
      "Old MacDonald had a farm, Ee-igh, Ei-igh, Oh!\n",
      "\n",
      "Old MacDonald had a farm, Ee-igh, Ei-igh, Oh!\n",
      "And on this farm he had a wolf, Ee-igh, Ee-igh, Oh!\n",
      "With a auu, auu here, and a auu, auu there.\n",
      "Here a auu, there a auu, everywhere a auu, auu.\n",
      "Old MacDonald had a farm, Ee-igh, Ei-igh, Oh!\n",
      "\n",
      "Old MacDonald had a farm, Ee-igh, Ei-igh, Oh!\n",
      "And on this farm he had a tiger, Ee-igh, Ee-igh, Oh!\n",
      "With a groaarr, groaarr here, and a groaarr, groaarr there.\n",
      "Here a groaarr, there a groaarr, everywhere a groaarr, groaarr.\n",
      "Old MacDonald had a farm, Ee-igh, Ei-igh, Oh!\n",
      "\n",
      "Old MacDonald had a farm, Ee-igh, Ei-igh, Oh!\n",
      "And on this farm he had a sheep, Ee-igh, Ee-igh, Oh!\n",
      "With a baah, baah here, and a baah, baah there.\n",
      "Here a baah, there a baah, everywhere a baah, baah.\n",
      "Old MacDonald had a farm, Ee-igh, Ei-igh, Oh!\n",
      "\n",
      "Old MacDonald had a farm, Ee-igh, Ei-igh, Oh!\n",
      "And on this farm he had a cat, Ee-igh, Ee-igh, Oh!\n",
      "With a miau, miau here, and a miau, miau there.\n",
      "Here a miau, there a miau, everywhere a miau, miau.\n",
      "Old MacDonald had a farm, Ee-igh, Ei-igh, Oh!\n"
     ]
    }
   ],
   "source": [
    "#Ejercicio 1\n",
    "\n",
    "def cancion():\n",
    "    print(\"Old MacDonald had a farm, Ee-igh, Ei-igh, Oh!\")\n",
    "\n",
    "def animal(animal, sonido):\n",
    "    print(\"And on this farm he had a\", animal +\", Ee-igh, Ee-igh, Oh!\")\n",
    "    print(\"With a\", sonido + \",\", sonido, \"here, and a\", sonido+\",\", sonido, \"there.\")\n",
    "    print(\"Here a\", sonido+\",\",\"there a\", sonido + \",\", \"everywhere a\", sonido+\",\", sonido+\".\")\n",
    "\n",
    "def main():\n",
    "    oldMac()\n",
    "    animal('dog', 'guau')\n",
    "    oldMac()\n",
    "    print()\n",
    "    oldMac()\n",
    "    animal('wolf', 'auu')\n",
    "    oldMac()\n",
    "    print()\n",
    "    oldMac()\n",
    "    animal('tiger', 'groaarr')\n",
    "    oldMac()\n",
    "    print()\n",
    "    oldMac()\n",
    "    animal('sheep', 'baah')\n",
    "    oldMac()\n",
    "    print()\n",
    "    oldMac()\n",
    "    animal('cat', 'miau')\n",
    "    oldMac()\n",
    "main()"
   ]
  },
  {
   "cell_type": "code",
   "execution_count": 9,
   "metadata": {},
   "outputs": [
    {
     "name": "stdout",
     "output_type": "stream",
     "text": [
      "Introduzca el valor del radio: 20\n",
      "Una esfera con radio de 20 tiene un volumen de 33510.322 y una superficie de área de 5026.548 .\n"
     ]
    }
   ],
   "source": [
    "# Ejercicio 3\n",
    "\n",
    "import math as m\n",
    "\n",
    "def sphereArea(radius):\n",
    "    area = 4 * m.pi * (radius*radius)\n",
    "    return area\n",
    "def sphereVolume(radius):\n",
    "    volume = 4/3 * m.pi * (radius ** 3)\n",
    "    return volume\n",
    "\n",
    "def main():\n",
    "    r = (eval(input(\"Introduzca el valor del radio: \")))\n",
    "    a = sphereArea(r)\n",
    "    v = sphereVolume(r)\n",
    "    print(\"Una esfera con radio de\", r, \"tiene un volumen de\", round(v, 3), \"y una superficie de área de\", round(a, 3),\".\")\n",
    "\n",
    "main()"
   ]
  },
  {
   "cell_type": "code",
   "execution_count": 20,
   "metadata": {},
   "outputs": [
    {
     "name": "stdout",
     "output_type": "stream",
     "text": [
      "Ingrese un número natural: 10\n",
      "La suma de los primeros 10 números naturales es 55, y la suma de los primeros 10 cubos es 3025\n"
     ]
    }
   ],
   "source": [
    "#Ejercicio 4\n",
    "\n",
    "def sumN(n):\n",
    "    suma = 1\n",
    "    for i in range(n,1,-1):\n",
    "        suma = suma + i\n",
    "    return suma\n",
    "def sumNCubes(n):\n",
    "    cubo = 1\n",
    "    for x in range(n,1,-1):\n",
    "        cubo = cubo + x ** 3\n",
    "    return cubo\n",
    "def main():\n",
    "    n = eval(input(\"Ingrese un número natural: \"))\n",
    "    N = sumN(n)\n",
    "    NCubes = sumNCubes(n)\n",
    "    print(\"La suma de los primeros {0} números naturales es {1}, y la suma \"\n",
    "    \"de los primeros {0} cubos es {2}\".format(n, N, NCubes))\n",
    "\n",
    "main()"
   ]
  },
  {
   "cell_type": "code",
   "execution_count": 26,
   "metadata": {},
   "outputs": [
    {
     "name": "stdout",
     "output_type": "stream",
     "text": [
      "[1, 4, 9, 16, 25, 36, 49, 64, 81]\n"
     ]
    }
   ],
   "source": [
    "# Ejercicio 11\n",
    "\n",
    "def squareEach(nums):\n",
    "    for x in range (len(nums)):\n",
    "        nums[x] = nums[x] ** 2        \n",
    "    return(nums)\n",
    "def test():\n",
    "    list = [1,2,3,4,5,6,7,8,9]\n",
    "    y = squareEach(list)\n",
    "    print(y)\n",
    "test()\n"
   ]
  },
  {
   "cell_type": "code",
   "execution_count": 27,
   "metadata": {},
   "outputs": [
    {
     "name": "stdout",
     "output_type": "stream",
     "text": [
      "114\n"
     ]
    }
   ],
   "source": [
    "# Ejercicio 12 \n",
    "\n",
    "def sumList(nums):\n",
    "    y = 0\n",
    "    for x in range (len(nums)):\n",
    "        y = nums[x] + y\n",
    "    return(y)\n",
    "def test():\n",
    "    list = [1,2,3,4,5,7,8,9,10,11,12,13,14,15]\n",
    "    z = sumList(list)\n",
    "    print(z)\n",
    "test()"
   ]
  },
  {
   "cell_type": "code",
   "execution_count": 30,
   "metadata": {},
   "outputs": [
    {
     "name": "stdout",
     "output_type": "stream",
     "text": [
      "[1, 2, 3, 4, 5, 6, 7, 8, 9, 10]\n"
     ]
    }
   ],
   "source": [
    "# Ejercicio 13 \n",
    "\n",
    "def toNumbers(strList):\n",
    "    for x in range (len(strList)):\n",
    "        strList[x] = int(strList[x])\n",
    "    return(strList)\n",
    "def test():\n",
    "    list = [\"1\",\"2\",\"3\",\"4\",\"5\",\"6\",\"7\",\"8\",\"9\",\"10\"]\n",
    "    z = toNumbers(list)\n",
    "    print(z)\n",
    "test()"
   ]
  },
  {
   "cell_type": "markdown",
   "metadata": {},
   "source": [
    "---"
   ]
  }
 ],
 "metadata": {
  "anaconda-cloud": {},
  "kernelspec": {
   "display_name": "Python 3",
   "language": "python",
   "name": "python3"
  },
  "language_info": {
   "codemirror_mode": {
    "name": "ipython",
    "version": 3
   },
   "file_extension": ".py",
   "mimetype": "text/x-python",
   "name": "python",
   "nbconvert_exporter": "python",
   "pygments_lexer": "ipython3",
   "version": "3.7.4"
  }
 },
 "nbformat": 4,
 "nbformat_minor": 1
}
