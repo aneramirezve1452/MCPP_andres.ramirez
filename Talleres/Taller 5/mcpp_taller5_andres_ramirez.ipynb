{
 "cells": [
  {
   "cell_type": "markdown",
   "metadata": {},
   "source": [
    "# Taller 5\n",
    "Métodos Computacionales para Políticas Públicas - URosario\n",
    "\n",
    "**Entrega: viernes 6-mar-2020 11:59 PM**"
   ]
  },
  {
   "cell_type": "markdown",
   "metadata": {},
   "source": [
    "<div class=\"alert alert-success\">\n",
    "\n",
    "**[Andrés Ramírez Vela]** <br><br>\n",
    "[andrese.ramirez@urosario.edu.co]\n",
    "</div>"
   ]
  },
  {
   "cell_type": "markdown",
   "metadata": {},
   "source": [
    "## Instrucciones:\n",
    "- Guarde una copia de este *Jupyter Notebook* en su computador, idealmente en una carpeta destinada al material del curso.\n",
    "- Modifique el nombre del archivo del *notebook*, agregando al final un guión inferior y su nombre y apellido, separados estos últimos por otro guión inferior. Por ejemplo, mi *notebook* se llamaría: mcpp_taller5_santiago_matallana\n",
    "- Marque el *notebook* con su nombre y e-mail en el bloque verde arriba. Reemplace el texto \"[Su nombre acá]\" con su nombre y apellido. Similar para su e-mail.\n",
    "- Desarrolle la totalidad del taller sobre este *notebook*, insertando las celdas que sea necesario debajo de cada pregunta. Haga buen uso de las celdas para código y de las celdas tipo *markdown* según el caso.\n",
    "- Recuerde salvar periódicamente sus avances.\n",
    "- Cuando termine el taller:\n",
    "    1. Descárguelo en PDF. Si tiene algún problema con la conversión, descárguelo en HTML.\n",
    "    2. Suba los dos archivos (.pdf -o .html- y .ipynb) a su repositorio en GitHub antes de la fecha y hora límites.\n",
    "\n",
    "(Todos los ejercicios tienen el mismo valor.)"
   ]
  },
  {
   "cell_type": "markdown",
   "metadata": {},
   "source": [
    "---"
   ]
  },
  {
   "cell_type": "markdown",
   "metadata": {},
   "source": [
    "### 1\n",
    "Escríba una función que ordene (de forma ascedente y descendente) un diccionario según sus valores."
   ]
  },
  {
   "cell_type": "code",
   "execution_count": 1,
   "metadata": {},
   "outputs": [
    {
     "name": "stdout",
     "output_type": "stream",
     "text": [
      "Ascendente: \n",
      " [('DMC', '12'), ('dorohedoro', '13'), ('Gungrave', '24'), ('Samurai Champloo', '25'), ('Dororo', '26')] \n",
      " Descendente: \n",
      " [('Dororo', '26'), ('Samurai Champloo', '25'), ('Gungrave', '24'), ('dorohedoro', '13'), ('DMC', '12')]\n"
     ]
    }
   ],
   "source": [
    "anime = {\"dorohedoro\": \"13\", \"Dororo\" : \"26\", \"Samurai Champloo\" : \"25\" , \"Gungrave\" : \"24\", \"DMC\" : \"12\"}\n",
    "def OrdenarDicc(diccionario):\n",
    "    ascendente = sorted(diccionario.items(), key=lambda x: x[1])\n",
    "    descendente = sorted(diccionario.items(), key=lambda x: x[1], reverse=True)\n",
    "    return print(\"Ascendente: \\n\", ascendente, \"\\n\",\"Descendente: \\n\", descendente)\n",
    "\n",
    "OrdenarDicc(anime)"
   ]
  },
  {
   "cell_type": "markdown",
   "metadata": {},
   "source": [
    "### 2\n",
    "Escriba una función que agregue una llave a un diccionario."
   ]
  },
  {
   "cell_type": "code",
   "execution_count": 2,
   "metadata": {},
   "outputs": [
    {
     "name": "stdout",
     "output_type": "stream",
     "text": [
      "{'dorohedoro': '13', 'Dororo': '26', 'Samurai Champloo': '25', 'Gungrave': '24', 'DMC': '12', 'Naruto': '220'}\n"
     ]
    }
   ],
   "source": [
    "def AgregarLlave(diccionario,llave,valor):\n",
    "    return diccionario.setdefault(llave,valor)\n",
    "\n",
    "AgregarLlave(anime,\"Naruto\",\"220\")\n",
    "print(anime)"
   ]
  },
  {
   "cell_type": "markdown",
   "metadata": {},
   "source": [
    "### 3\n",
    "Escriba un programa que concatene los siguientes tres diccionarios en uno nuevo:"
   ]
  },
  {
   "cell_type": "markdown",
   "metadata": {},
   "source": [
    "dicc1 = {1:10, 2:20} \n",
    "dicc2 = {3:30, 4:40} \n",
    "dicc3 = {5:50,6:60}\n",
    "Resultado esperado: {1: 10, 2: 20, 3: 30, 4: 40, 5: 50, 6: 60}"
   ]
  },
  {
   "cell_type": "code",
   "execution_count": 3,
   "metadata": {},
   "outputs": [
    {
     "name": "stdout",
     "output_type": "stream",
     "text": [
      "{1: 10, 2: 20, 3: 30, 4: 40, 5: 50, 6: 60}\n"
     ]
    }
   ],
   "source": [
    "dicc4 ={}\n",
    "dicc1 = {1:10, 2:20}\n",
    "dicc2 = {3:30, 4:40}\n",
    "dicc3 = {5:50,6:60}\n",
    "dicc4.update(dicc1)\n",
    "dicc4.update(dicc2)\n",
    "dicc4.update(dicc3)\n",
    "print(dicc4)"
   ]
  },
  {
   "cell_type": "markdown",
   "metadata": {},
   "source": [
    "### 4\n",
    "Escriba una función que verifique si una determinada llave existe o no en un diccionario."
   ]
  },
  {
   "cell_type": "code",
   "execution_count": 4,
   "metadata": {},
   "outputs": [
    {
     "name": "stdout",
     "output_type": "stream",
     "text": [
      "Mencione una serie: DMC\n"
     ]
    },
    {
     "data": {
      "text/plain": [
       "'la serie existe en el diccionario'"
      ]
     },
     "execution_count": 4,
     "metadata": {},
     "output_type": "execute_result"
    }
   ],
   "source": [
    "def existe():\n",
    "    serie = str(input(\"Mencione una serie: \"))\n",
    "    if serie not in anime:\n",
    "        return \"la serie no existe en el diccionario\"\n",
    "    else:\n",
    "        return \"la serie existe en el diccionario\"\n",
    "existe()"
   ]
  },
  {
   "cell_type": "code",
   "execution_count": 5,
   "metadata": {},
   "outputs": [
    {
     "name": "stdout",
     "output_type": "stream",
     "text": [
      "Mencione una serie: DBZ\n"
     ]
    },
    {
     "data": {
      "text/plain": [
       "'la serie no existe en el diccionario'"
      ]
     },
     "execution_count": 5,
     "metadata": {},
     "output_type": "execute_result"
    }
   ],
   "source": [
    "def existe():\n",
    "    serie = str(input(\"Mencione una serie: \"))\n",
    "    if serie not in anime:\n",
    "        return \"la serie no existe en el diccionario\"\n",
    "    else:\n",
    "        return \"la serie existe en el diccionario\"\n",
    "existe()"
   ]
  },
  {
   "cell_type": "markdown",
   "metadata": {},
   "source": [
    "### 5\n",
    "Escriba una función que imprima todos los pares (llave, valor) de un diccionario."
   ]
  },
  {
   "cell_type": "code",
   "execution_count": 6,
   "metadata": {},
   "outputs": [
    {
     "data": {
      "text/plain": [
       "dict_items([('dorohedoro', '13'), ('Dororo', '26'), ('Samurai Champloo', '25'), ('Gungrave', '24'), ('DMC', '12'), ('Naruto', '220')])"
      ]
     },
     "execution_count": 6,
     "metadata": {},
     "output_type": "execute_result"
    }
   ],
   "source": [
    "def pares(diccionario):\n",
    "    items = diccionario.items() \n",
    "    return items\n",
    "pares(anime)"
   ]
  },
  {
   "cell_type": "markdown",
   "metadata": {},
   "source": [
    "### 6\n",
    "Escriba una función que genere un diccionario con los números enteros entre 1 y n en la forma (x: x**2)."
   ]
  },
  {
   "cell_type": "code",
   "execution_count": 7,
   "metadata": {},
   "outputs": [
    {
     "name": "stdout",
     "output_type": "stream",
     "text": [
      "{0: 0, 1: 1, 2: 4, 3: 9, 4: 16, 5: 25, 6: 36, 7: 49, 8: 64, 9: 81, 10: 100, 11: 121, 12: 144, 13: 169, 14: 196, 15: 225, 16: 256, 17: 289, 18: 324, 19: 361, 20: 400}\n"
     ]
    }
   ],
   "source": [
    "def potencias(n):\n",
    "    potencias = {x:x**2 for x in range(n)}\n",
    "    return print(potencias)\n",
    "potencias(21)"
   ]
  },
  {
   "cell_type": "markdown",
   "metadata": {},
   "source": [
    "### 7\n",
    "Escriba una función que sume todas las llaves de un diccionario. (Asuma que son números.)"
   ]
  },
  {
   "cell_type": "code",
   "execution_count": 8,
   "metadata": {},
   "outputs": [
    {
     "name": "stdout",
     "output_type": "stream",
     "text": [
      "3\n"
     ]
    }
   ],
   "source": [
    "c = {1:2, 2:3}\n",
    "def SumKeys(diccionario):\n",
    "    keys= diccionario.keys()\n",
    "    suma = 0\n",
    "    for x in keys:\n",
    "        suma = suma + x\n",
    "    return print(suma)\n",
    "\n",
    "SumKeys(c)"
   ]
  },
  {
   "cell_type": "markdown",
   "metadata": {},
   "source": [
    "### 8\n",
    "Escriba una función que sume todos los valores de un diccionario. (Asuma que son números.)"
   ]
  },
  {
   "cell_type": "code",
   "execution_count": 9,
   "metadata": {},
   "outputs": [
    {
     "name": "stdout",
     "output_type": "stream",
     "text": [
      "15\n"
     ]
    }
   ],
   "source": [
    "e =  {4 : 1, 5 : 2, 6 : 3 , 7 : 4, 8: 5}\n",
    "\n",
    "def SumValues(diccionario):\n",
    "    values= diccionario.values()\n",
    "    suma = 0\n",
    "    for x in values:\n",
    "        suma = suma + x\n",
    "    return print(suma)\n",
    "\n",
    "SumValues(e)"
   ]
  },
  {
   "cell_type": "markdown",
   "metadata": {},
   "source": [
    "### 9\n",
    "Escriba una función que sume todos los ítems de un diccionario. (Asuma que son números.)"
   ]
  },
  {
   "cell_type": "code",
   "execution_count": 10,
   "metadata": {},
   "outputs": [],
   "source": [
    "d ={2:1, 3:2, 4:5}"
   ]
  },
  {
   "cell_type": "code",
   "execution_count": 11,
   "metadata": {},
   "outputs": [
    {
     "name": "stdout",
     "output_type": "stream",
     "text": [
      "17\n"
     ]
    }
   ],
   "source": [
    "def SumItems(diccionario):\n",
    "    keys= diccionario.keys()\n",
    "    values= diccionario.values()\n",
    "    suma = 0\n",
    "    for x in keys:\n",
    "        suma = suma + x\n",
    "    for x in values:\n",
    "        suma = suma + x\n",
    "    return print(suma)\n",
    "SumItems (d)"
   ]
  },
  {
   "cell_type": "markdown",
   "metadata": {},
   "source": [
    "### 10\n",
    "Escriba una función que tome dos listas y las mapee a un diccionario por pares. (El primer elemento de la primera lista es la primera llave del diccionario, el primer elemento de la segunda lista es el valor de la primera llave del diccionario, etc.)"
   ]
  },
  {
   "cell_type": "code",
   "execution_count": 12,
   "metadata": {},
   "outputs": [
    {
     "name": "stdout",
     "output_type": "stream",
     "text": [
      "{'Bergkamp': 10, 'Pirlo': 21, 'Ronaldo': 9, 'Roberto': 6, 'Maldini': 3, 'Drogba': 11, 'Zidane': 5, 'Yashin': 1, 'Lampard': 8, 'Cafu': 2, 'Zanetti': 4}\n"
     ]
    }
   ],
   "source": [
    "l1 = [\"Bergkamp\", \"Pirlo\", \"Ronaldo\", \"Roberto\", \"Maldini\", \"Drogba\", \"Zidane\", \"Yashin\", \"Lampard\", \"Cafu\", \"Zanetti\"]\n",
    "l2 = [10, 21, 9, 6, 3, 11, 5, 1, 8, 2, 4]\n",
    "\n",
    "def FormarDicc(lista1,lista2):\n",
    "    if len(lista1)!=len(lista2):\n",
    "        return print(\"Las listas tienen tamaño distinto verifique y vuelva a intentar\")\n",
    "    else:\n",
    "        dicc = {}\n",
    "    for x in range(len(lista1)):\n",
    "        dicc[lista1[x]] = lista2[x]\n",
    "    return print(dicc)\n",
    "\n",
    "FormarDicc(l1,l2)"
   ]
  },
  {
   "cell_type": "markdown",
   "metadata": {},
   "source": [
    "### 11\n",
    "Escriba una función que elimine una llave de un diccionario."
   ]
  },
  {
   "cell_type": "code",
   "execution_count": 13,
   "metadata": {},
   "outputs": [
    {
     "name": "stdout",
     "output_type": "stream",
     "text": [
      "{1: 2, 5: 6, 7: 8}\n"
     ]
    }
   ],
   "source": [
    "f =  {1 : 2, 3 : 4, 5 : 6 , 7 : 8}\n",
    "def EliminarLlave(diccionario,llave):\n",
    "    diccionario.pop(llave)\n",
    "    return print(diccionario)\n",
    "\n",
    "EliminarLlave(f,3)"
   ]
  },
  {
   "cell_type": "markdown",
   "metadata": {},
   "source": [
    "### 12\n",
    "Escriba una función que arroje los valores mínimo y máximo de un diccionario."
   ]
  },
  {
   "cell_type": "code",
   "execution_count": 14,
   "metadata": {},
   "outputs": [
    {
     "data": {
      "text/plain": [
       "(2, 5891)"
      ]
     },
     "execution_count": 14,
     "metadata": {},
     "output_type": "execute_result"
    }
   ],
   "source": [
    "numeros = {2:\"par\", 112:\"par\", 1033:\"impar\", 13:\"impar\", 20:\"par\", 15:\"impar\", 3568:\"par\", 5891:\"impar\"}\n",
    "def limite(diccionario):\n",
    "    min_value = min(diccionario)\n",
    "    max_value = max(diccionario)    \n",
    "    return min_value, max_value\n",
    "limite(numeros)"
   ]
  },
  {
   "cell_type": "markdown",
   "metadata": {},
   "source": [
    "### 13"
   ]
  },
  {
   "cell_type": "markdown",
   "metadata": {},
   "source": [
    "sentence = \"the quick brown fox jumps over the lazy dog\"\n",
    "words = sentence.split()\n",
    "word_lengths = []\n",
    "for word in words:\n",
    "    if word != \"the\":\n",
    "        word_lengths.append(len(word)) \n",
    " \n",
    "Simplifique el código anterior combinando las líneas 3 a 6 usando list comprehension. Su código final deberá entonces tener tres líneas."
   ]
  },
  {
   "cell_type": "code",
   "execution_count": 15,
   "metadata": {},
   "outputs": [],
   "source": [
    "#Código simplificado:\n",
    "sentence = \"the quick brown fox jumps over the lazy dog\"\n",
    "words = sentence.split()\n",
    "word_lengths = [len(word) for word in words if word != \"the\" ]"
   ]
  },
  {
   "cell_type": "markdown",
   "metadata": {},
   "source": [
    "### 14"
   ]
  },
  {
   "cell_type": "markdown",
   "metadata": {},
   "source": [
    "Escriba UNA línea de código que tome la lista <mark>a</mark> y arroje una nueva lista con solo los elementos pares de <mark>a</mark>."
   ]
  },
  {
   "cell_type": "code",
   "execution_count": 16,
   "metadata": {},
   "outputs": [
    {
     "name": "stdout",
     "output_type": "stream",
     "text": [
      "[2, 4, 6, 8]\n"
     ]
    }
   ],
   "source": [
    "a = [1,2,3,4,5,6,7,8,9]\n",
    "\n",
    "l3 = [x for x in a if x%2 == 0]\n",
    "\n",
    "print(l3)"
   ]
  },
  {
   "cell_type": "markdown",
   "metadata": {},
   "source": [
    "### 15"
   ]
  },
  {
   "cell_type": "markdown",
   "metadata": {},
   "source": [
    "Escriba UNA línea de código que tome la lista <mark>a</mark> del ejercicio 14 y multiplique todos sus valores."
   ]
  },
  {
   "cell_type": "code",
   "execution_count": 18,
   "metadata": {
    "scrolled": true
   },
   "outputs": [],
   "source": [
    "from functools import reduce"
   ]
  },
  {
   "cell_type": "code",
   "execution_count": 19,
   "metadata": {},
   "outputs": [
    {
     "data": {
      "text/plain": [
       "362880"
      ]
     },
     "execution_count": 19,
     "metadata": {},
     "output_type": "execute_result"
    }
   ],
   "source": [
    "reduce(lambda x, y: x*y, a)"
   ]
  },
  {
   "cell_type": "markdown",
   "metadata": {},
   "source": [
    "### 16"
   ]
  },
  {
   "cell_type": "markdown",
   "metadata": {},
   "source": [
    "Usando \"list comprehension\", cree una lista con las 36 combinaciones de un par de dados, como tuplas: [(1,1), (1,2),...,(6,6)]."
   ]
  },
  {
   "cell_type": "code",
   "execution_count": 17,
   "metadata": {},
   "outputs": [
    {
     "name": "stdout",
     "output_type": "stream",
     "text": [
      "[(1, 1), (1, 2), (1, 3), (1, 4), (1, 5), (1, 6), (2, 1), (2, 2), (2, 3), (2, 4), (2, 5), (2, 6), (3, 1), (3, 2), (3, 3), (3, 4), (3, 5), (3, 6), (4, 1), (4, 2), (4, 3), (4, 4), (4, 5), (4, 6), (5, 1), (5, 2), (5, 3), (5, 4), (5, 5), (5, 6), (6, 1), (6, 2), (6, 3), (6, 4), (6, 5), (6, 6)]\n"
     ]
    }
   ],
   "source": [
    "combinaciones = [(x,y) for x in range(1,7) for y in range(1,7)]\n",
    "print(combinaciones)"
   ]
  },
  {
   "cell_type": "markdown",
   "metadata": {},
   "source": [
    "---"
   ]
  }
 ],
 "metadata": {
  "anaconda-cloud": {},
  "kernelspec": {
   "display_name": "Python 3",
   "language": "python",
   "name": "python3"
  },
  "language_info": {
   "codemirror_mode": {
    "name": "ipython",
    "version": 3
   },
   "file_extension": ".py",
   "mimetype": "text/x-python",
   "name": "python",
   "nbconvert_exporter": "python",
   "pygments_lexer": "ipython3",
   "version": "3.7.4"
  }
 },
 "nbformat": 4,
 "nbformat_minor": 1
}
