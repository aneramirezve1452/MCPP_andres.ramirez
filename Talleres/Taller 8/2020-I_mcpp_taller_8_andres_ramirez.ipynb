{
 "cells": [
  {
   "cell_type": "markdown",
   "metadata": {},
   "source": [
    "# Taller 8\n",
    "Métodos Computacionales para Políticas Públicas - URosario\n",
    "\n",
    "**Entrega: viernes 17-abr-2020 11:59 PM**"
   ]
  },
  {
   "cell_type": "markdown",
   "metadata": {},
   "source": [
    "\n",
    "<div class=\"alert alert-success\">\n",
    "\n",
    "**[Andrés Ramírez Vela]** <br><br>\n",
    "[andrese.ramirez@urosario.edu.co]\n",
    "</div>"
   ]
  },
  {
   "cell_type": "markdown",
   "metadata": {},
   "source": [
    "## Instrucciones:\n",
    "- Guarde una copia de este *Jupyter Notebook* en su computador, idealmente en una carpeta destinada al material del curso.\n",
    "- Modifique el nombre del archivo del *notebook*, agregando al final un guión inferior y su nombre y apellido, separados estos últimos por otro guión inferior. Por ejemplo, mi *notebook* se llamaría: mcpp_taller8_santiago_matallana\n",
    "- Marque el *notebook* con su nombre y e-mail en el bloque verde arriba. Reemplace el texto \"[Su nombre acá]\" con su nombre y apellido. Similar para su e-mail.\n",
    "- Desarrolle la totalidad del taller sobre este *notebook*, insertando las celdas que sea necesario debajo de cada pregunta. Haga buen uso de las celdas para código y de las celdas tipo *markdown* según el caso.\n",
    "- Recuerde salvar periódicamente sus avances.\n",
    "- Cuando termine el taller:\n",
    "    1. Descárguelo en PDF. Si tiene algún problema con la conversión, descárguelo en HTML.\n",
    "    2. Suba todos los archivos a su repositorio en GitHub, en una carpeta destinada exclusivamente para este taller, antes de la fecha y hora límites."
   ]
  },
  {
   "cell_type": "markdown",
   "metadata": {},
   "source": [
    "---"
   ]
  },
  {
   "cell_type": "markdown",
   "metadata": {},
   "source": [
    "### 1. [1 punto]\n",
    "\n",
    "Usando expresiones regulares extraiga en una lista todos los números presentes en el siguiente objeto de Python:\n",
    "\n",
    "ob1 = \"JEFF BEZOS, the founder of Amazon, has reached a divorce settlement with his wife, MacKenzie. Mr Bezos will keep all the shares in the Washington Post and Blue Origin, a space-exploration firm, as well as 75% of the couple’s Amazon stock. Mrs Bezos will retain a 4% stake in the tech giant, worth nearly $36bn, which is likely to make her the third-richest woman alive when the divorce is finalised.\""
   ]
  },
  {
   "cell_type": "code",
   "execution_count": 1,
   "metadata": {},
   "outputs": [],
   "source": [
    "import re"
   ]
  },
  {
   "cell_type": "code",
   "execution_count": 2,
   "metadata": {},
   "outputs": [],
   "source": [
    "ob1 = \"JEFF BEZOS, the founder of Amazon, has reached a divorce settlement with his wife, MacKenzie. Mr Bezos will keep all the shares in the Washington Post and Blue Origin, a space-exploration firm, as well as 75% of the couple’s Amazon stock. Mrs Bezos will retain a 4% stake in the tech giant, worth nearly $36bn, which is likely to make her the third-richest woman alive when the divorce is finalised.\""
   ]
  },
  {
   "cell_type": "code",
   "execution_count": 3,
   "metadata": {},
   "outputs": [
    {
     "data": {
      "text/plain": [
       "['75', '4', '36']"
      ]
     },
     "execution_count": 3,
     "metadata": {},
     "output_type": "execute_result"
    }
   ],
   "source": [
    "re.findall('[0-9]+', ob1)"
   ]
  },
  {
   "cell_type": "markdown",
   "metadata": {},
   "source": [
    "### 2. [1 punto]\n",
    "\n",
    "Usando expresiones regulares ahora extraiga de *ob1* sólo los números que correspondan a porcentajes."
   ]
  },
  {
   "cell_type": "code",
   "execution_count": 4,
   "metadata": {},
   "outputs": [
    {
     "data": {
      "text/plain": [
       "['75%', '4%']"
      ]
     },
     "execution_count": 4,
     "metadata": {},
     "output_type": "execute_result"
    }
   ],
   "source": [
    "re.findall(\"[\\d]+%\", ob1)"
   ]
  },
  {
   "cell_type": "markdown",
   "metadata": {},
   "source": [
    "### 3. [2 puntos]\n",
    "\n",
    "Usando expresiones regulares, escriba una función de Python que reciba una fecha en formato **Marzo 7, 2019** y retorne la fecha en formato **2019-07-03**"
   ]
  },
  {
   "cell_type": "code",
   "execution_count": 5,
   "metadata": {},
   "outputs": [
    {
     "name": "stdout",
     "output_type": "stream",
     "text": [
      "2020-27-06\n"
     ]
    }
   ],
   "source": [
    "from datetime import datetime\n",
    "\n",
    "def fecha(fecha_in):\n",
    "    fecha_in = re.split(\"\\s|[,]\",fecha_test)\n",
    "    month = [\"Jan\",\"Feb\",\"Mar\",\"Apr\",\"May\",\"Jun\",\"Jul\",\"Ago\",\"Sep\",\"Oct\",\"Nov\",\"Dec\"]\n",
    "    mes = [\"ene\",\"feb\",\"mar\",\"abr\",\"may\",\"jun\",\"jul\",\"ago\",\"sep\",\"oct\",\"nov\",\"dic\"]\n",
    "    \n",
    "    for i in range(len(mes)):\n",
    "        if mes[i]==fecha_in[0][:3].lower():\n",
    "            fecha_in[0]=month[i]\n",
    "            fecha_in = fecha_in[0]+\" \"+fecha_in[1]+\" \"+fecha_in[2]\n",
    "    fecha_in = datetime.strptime(fecha_in,\"%b %d %Y\")\n",
    "    fecha_in = datetime.strftime(fecha_in,\"%Y-%d-%m\")\n",
    "    print(fecha_in)\n",
    "    \n",
    "fecha_test = \"Junio 27,2020\" \n",
    "fecha(fecha_test)"
   ]
  },
  {
   "cell_type": "markdown",
   "metadata": {},
   "source": [
    "### 4. [3 puntos]\n",
    "\n",
    "*ob2* es un string que reune una lista de clases en una universidad. Use expresiones regulares para extraer los códigos de cada una de las clases. Ejemplo: El código de la clase **COMPSCI 143 (Spring 2012): Machine Learning** es 143.\n",
    "\n",
    "ob2 = \"COMPSCI 270 (Spring 2019): Introduction to Artificial Intelligence.\n",
    "COMPSCI 590.2 (Fall 2018): Computational Microeconomics: Game Theory, Social Choice, and Mechanism Design.\n",
    "COMPSCI 223 (Spring 2018): Computational Microeconomics.\n",
    "COMPSCI 570 (Fall 2017): Artificial Intelligence.\n",
    "COMPSCI 590.3 (Fall 2017) / 590.1 (Spring 2018): Ethics and AI.\n",
    "COMPSCI 590.2 (Spring 2017): Computation, Information, and Learning in Market Design.\n",
    "COMPSCI 590.4 (Spring 2016): Computational Microeconomics: Game Theory, Social Choice, and Mechanism Design.\n",
    "COMPSCI 290.4/590.4 (Spring 2015): Crowdsourcing Societal Tradeoffs.\n",
    "COMPSCI 570 (Fall 2014): Artificial Intelligence.\n",
    "COMPSCI 590.4 (Spring 2014): Computational Microeconomics: Game Theory, Social Choice, and Mechanism Design.\n",
    "COMPSCI 590.1 (Fall 2012): Linear and Integer Programming.\n",
    "COMPSCI 173 (Spring 2012): Computational Microeconomics.\n",
    "COMPSCI 296.1 (Fall 2011): Computational Microeconomics: Game Theory, Social Choice, and Mechanism Design.\n",
    "COMPSCI 296.1 (Fall 2010): Linear and Integer Programming.\n",
    "COMPSCI 173 (Spring 2010): Computational Microeconomics.\n",
    "COMPSCI 196.1/296.1 (Fall 2009): Computational Microeconomics: Game Theory, Social Choice, and Mechanism Design.\n",
    "COMPSCI 170 (Spring 2009): Introduction to Artificial Intelligence.\n",
    "COMPSCI 270 (Fall 2008): Artificial Intelligence.\n",
    "COMPSCI 196/296.2 (Spring 2008): Linear and Integer Programming.\n",
    "COMPSCI 196.2 (Fall 2007): Introduction to Computational Economics.\n",
    "COMPSCI 296.3 (Spring 2007): Topics in Computational Economics.\n",
    "COMPSCI 296.2 (Fall 2006): Computational Game Theory and Mechanism Design.\"\n"
   ]
  },
  {
   "cell_type": "code",
   "execution_count": 6,
   "metadata": {},
   "outputs": [],
   "source": [
    "ob2 = \"COMPSCI 270 (Spring 2019): Introduction to Artificial Intelligence. COMPSCI 590.2 (Fall 2018): Computational Microeconomics: Game Theory, Social Choice, and Mechanism Design. COMPSCI 223 (Spring 2018): Computational Microeconomics. COMPSCI 570 (Fall 2017): Artificial Intelligence. COMPSCI 590.3 (Fall 2017):Ethics and AI.  COMPSCI 590.1 (Spring 2018): Ethics and AI. COMPSCI 590.2 (Spring 2017): Computation, Information, and Learning in Market Design. COMPSCI 590.4 (Spring 2016): Computational Microeconomics: Game Theory, Social Choice, and Mechanism Design. COMPSCI 290.4/590.4 (Spring 2015): Crowdsourcing Societal Tradeoffs. COMPSCI 570 (Fall 2014): Artificial Intelligence. COMPSCI 590.4 (Spring 2014): Computational Microeconomics: Game Theory, Social Choice, and Mechanism Design. COMPSCI 590.1 (Fall 2012): Linear and Integer Programming. COMPSCI 173 (Spring 2012): Computational Microeconomics. COMPSCI 296.1 (Fall 2011): Computational Microeconomics: Game Theory, Social Choice, and Mechanism Design. COMPSCI 296.1 (Fall 2010): Linear and Integer Programming. COMPSCI 173 (Spring 2010): Computational Microeconomics. COMPSCI 196.1/296.1 (Fall 2009): Computational Microeconomics: Game Theory, Social Choice, and Mechanism Design. COMPSCI 170 (Spring 2009): Introduction to Artificial Intelligence. COMPSCI 270 (Fall 2008): Artificial Intelligence. COMPSCI 196/296.2 (Spring 2008): Linear and Integer Programming. COMPSCI 196.2 (Fall 2007): Introduction to Computational Economics. COMPSCI 296.3 (Spring 2007): Topics in Computational Economics. COMPSCI 296.2 (Fall 2006): Computational Game Theory and Mechanism Design.\""
   ]
  },
  {
   "cell_type": "code",
   "execution_count": 7,
   "metadata": {},
   "outputs": [
    {
     "name": "stdout",
     "output_type": "stream",
     "text": [
      "El código de la clase COMPSCI 270 (Spring 2019): Introduction to Artificial Intelligence es:  270\n",
      "El código de la clase COMPSCI 590.2 (Fall 2018): Computational Microeconomics: Game Theory, Social Choice, and Mechanism Design es:  590.2\n",
      "El código de la clase COMPSCI 223 (Spring 2018): Computational Microeconomics es:  223\n",
      "El código de la clase COMPSCI 570 (Fall 2017): Artificial Intelligence es:  570\n",
      "El código de la clase COMPSCI 590.3 (Fall 2017):Ethics and AI es:  590.3\n",
      "El código de la clase  COMPSCI 590.1 (Spring 2018): Ethics and AI es:  590.1\n",
      "El código de la clase COMPSCI 590.2 (Spring 2017): Computation, Information, and Learning in Market Design es:  590.2\n",
      "El código de la clase COMPSCI 590.4 (Spring 2016): Computational Microeconomics: Game Theory, Social Choice, and Mechanism Design es:  590.4\n",
      "El código de la clase COMPSCI 290.4/590.4 (Spring 2015): Crowdsourcing Societal Tradeoffs es:  290.4/590.4\n",
      "El código de la clase COMPSCI 570 (Fall 2014): Artificial Intelligence es:  570\n",
      "El código de la clase COMPSCI 590.4 (Spring 2014): Computational Microeconomics: Game Theory, Social Choice, and Mechanism Design es:  590.4\n",
      "El código de la clase COMPSCI 590.1 (Fall 2012): Linear and Integer Programming es:  590.1\n",
      "El código de la clase COMPSCI 173 (Spring 2012): Computational Microeconomics es:  173\n",
      "El código de la clase COMPSCI 296.1 (Fall 2011): Computational Microeconomics: Game Theory, Social Choice, and Mechanism Design es:  296.1\n",
      "El código de la clase COMPSCI 296.1 (Fall 2010): Linear and Integer Programming es:  296.1\n",
      "El código de la clase COMPSCI 173 (Spring 2010): Computational Microeconomics es:  173\n",
      "El código de la clase COMPSCI 196.1/296.1 (Fall 2009): Computational Microeconomics: Game Theory, Social Choice, and Mechanism Design es:  196.1/296.1\n",
      "El código de la clase COMPSCI 170 (Spring 2009): Introduction to Artificial Intelligence es:  170\n",
      "El código de la clase COMPSCI 270 (Fall 2008): Artificial Intelligence es:  270\n",
      "El código de la clase COMPSCI 196/296.2 (Spring 2008): Linear and Integer Programming es:  196/296.2\n",
      "El código de la clase COMPSCI 196.2 (Fall 2007): Introduction to Computational Economics es:  196.2\n",
      "El código de la clase COMPSCI 296.3 (Spring 2007): Topics in Computational Economics es:  296.3\n",
      "El código de la clase COMPSCI 296.2 (Fall 2006): Computational Game Theory and Mechanism Design. es:  296.2\n"
     ]
    }
   ],
   "source": [
    "codigos = re.findall(r\"[I|/] ([\\d./d]+)\", ob2)\n",
    "clases = re.split(\"[.]+[ COMPSCI]\", ob2)\n",
    "frases =[]\n",
    "for i in range(len(codigos)):\n",
    "    frases.append(\"El código de la clase \" + clases[i] + \" es:  \" + codigos[i] )\n",
    "    print(frases[i])"
   ]
  },
  {
   "cell_type": "markdown",
   "metadata": {},
   "source": [
    "### 5. [5 puntos]\n",
    "\n",
    "*ob3* es un string que reune una lista de publicaciones. Use expresiones regulares para extraer todos los *Journals* en los cuales el autor ha publicado. Ejemplo: El paper **Bail, CA. \"The configuration of symbolic boundaries against immigrants in Europe.\" American Sociological Review 73.1 (January 1, 2008): 37-59. Full Text** fue publicado en el Journal *American Sociological Review*\n",
    "\n",
    " ob3 = \"Bail, CA, Argyle, LP, Brown, TW, Bumpus, JP, Chen, H, Hunzaker, MBF, Lee, J, Mann, M, Merhout, F, and Volfovsky, A. \\\"Exposure to opposing views on social media can increase political polarization.\\\" Proceedings of the National Academy of Sciences of the United States of America 115.37 (September 2018): 9216-9221. Full Text Open Access Copy.\\n\",\n",
    "    \"Bail, CA, Merhout, F, and Ding, P. \\\"Using Internet search data to examine the relationship between anti-Muslim and pro-ISIS sentiment in U.S. counties.\\\" Science Advances 4.6 (June 6, 2018): eaao5948-null. Full Text Open Access Copy.\\n\",\n",
    "    \"Bail, CA, Brown, TW, and Mann, M. \\\"Channeling Hearts and Minds: Advocacy Organizations, Cognitive-Emotional Currents, and Public Conversation.\\\" American Sociological Review 82.6 (December 1, 2017): 1188-1213. Full Text.\\n\",\n",
    "    \"Bail, CA. \\\"Taming Big Data: Using App Technology to Study Organizational Behavior on Social Media.\\\" Sociological Methods and Research 46.2 (March 1, 2017): 189-217. Full Text.\\n\",\n",
    "    \"McDonnell, TE, Bail, CA, and Tavory, I. \\\"A Theory of Resonance.\\\" Sociological Theory 35.1 (March 1, 2017): 1-14. Full Text.\\n\",\n",
    "    \"Bail, CA. \\\"Combining natural language processing and network analysis to examine how advocacy organizations stimulate conversation on social media.\\\" Proceedings of the National Academy of Sciences of the United States of America 113.42 (October 2016): 11823-11828. Full Text.\\n\",\n",
    "    \"Bail, CA. \\\"Emotional Feedback and the Viral Spread of Social Media Messages About Autism Spectrum Disorders.\\\" American journal of public health 106.7 (July 2016): 1173-1180. Full Text.\\n\",\n",
    "    \"Bail, CA. \\\"The public life of secrets: Deception, disclosure, and discursive framing in the policy process.\\\" Sociological Theory 33.2 (January 1, 2015): 97-124. Full Text.\\n\",\n",
    "    \"Bail, CA. \\\"The cultural environment: Measuring culture with big data.\\\" Theory and Society 43.3 (January 1, 2014): 465-524. Full Text.\\\"\""
   ]
  },
  {
   "cell_type": "code",
   "execution_count": 8,
   "metadata": {},
   "outputs": [],
   "source": [
    "ob3 = \"\"\"Bail, CA, Argyle, LP, Brown, TW, Bumpus, JP, Chen, H, Hunzaker, MBF, Lee, J, Mann, M, Merhout, F, and Volfovsky, A. \"Exposure to opposing views on social media can increase political polarization.\" Proceedings of the National Academy of Sciences of the United States of America 115.37 (September 2018): 9216-9221. Full Text Open Access Copy.\\n\", \"Bail, CA, Merhout, F, and Ding, P. \"Using Internet search data to examine the relationship between anti-Muslim and pro-ISIS sentiment in U.S. counties.\" Science Advances 4.6 (June 6, 2018): eaao5948-null. Full Text Open Access Copy.\\n\", \"Bail, CA, Brown, TW, and Mann, M. \"Channeling Hearts and Minds: Advocacy Organizations, Cognitive-Emotional Currents, and Public Conversation.\" American Sociological Review 82.6 (December 1, 2017): 1188-1213. Full Text.\\n\", \"Bail, CA. \"Taming Big Data: Using App Technology to Study Organizational Behavior on Social Media.\" Sociological Methods and Research 46.2 (March 1, 2017): 189-217. Full Text.\\n\", \"McDonnell, TE, Bail, CA, and Tavory, I. \"A Theory of Resonance.\" Sociological Theory 35.1 (March 1, 2017): 1-14. Full Text.\\n\", \"Bail, CA. \"Combining natural language processing and network analysis to examine how advocacy organizations stimulate conversation on social media.\" Proceedings of the National Academy of Sciences of the United States of America 113.42 (October 2016): 11823-11828. Full Text.\\n\", \"Bail, CA. \"Emotional Feedback and the Viral Spread of Social Media Messages About Autism Spectrum Disorders.\" American journal of public health 106.7 (July 2016): 1173-1180. Full Text.\\n\", \"Bail, CA. \"The public life of secrets: Deception, disclosure, and discursive framing in the policy process.\" Sociological Theory 33.2 (January 1, 2015): 97-124. Full Text.\\n\", \"Bail, CA. \"The cultural environment: Measuring culture with big data.\" Theory and Society 43.3 (January 1, 2014): 465-524. Full Text.\"\"\""
   ]
  },
  {
   "cell_type": "code",
   "execution_count": 9,
   "metadata": {},
   "outputs": [
    {
     "name": "stdout",
     "output_type": "stream",
     "text": [
      "El paper Bail, CA, Argyle, LP, Brown, TW, Bumpus, JP, Chen, H, Hunzaker, MBF, Lee, J, Mann, M, Merhout, F, and Volfovsky, A. \"Exposure to opposing views on social media can increase political polarization.\" Proceedings of the National Academy of Sciences of the United States of America 115.37 (September 2018): 9216-9221. Full Text Open Access Copy. fue publicado en el journal: Proceedings of the National Academy of Sciences of the United States of America 115.37\n",
      "El paper \", \"Bail, CA, Merhout, F, and Ding, P. \"Using Internet search data to examine the relationship between anti-Muslim and pro-ISIS sentiment in U.S. counties.\" Science Advances 4.6 (June 6, 2018): eaao5948-null. Full Text Open Access Copy. fue publicado en el journal: Science Advances 4.6\n",
      "El paper \", \"Bail, CA, Brown, TW, and Mann, M. \"Channeling Hearts and Minds: Advocacy Organizations, Cognitive-Emotional Currents, and Public Conversation.\" American Sociological Review 82.6 (December 1, 2017): 1188-1213. Full Text. fue publicado en el journal: American Sociological Review 82.6\n",
      "El paper \", \"Bail, CA. \"Taming Big Data: Using App Technology to Study Organizational Behavior on Social Media.\" Sociological Methods and Research 46.2 (March 1, 2017): 189-217. Full Text. fue publicado en el journal: Sociological Methods and Research 46.2\n",
      "El paper \", \"McDonnell, TE, Bail, CA, and Tavory, I. \"A Theory of Resonance.\" Sociological Theory 35.1 (March 1, 2017): 1-14. Full Text. fue publicado en el journal: Sociological Theory 35.1\n",
      "El paper \", \"Bail, CA. \"Combining natural language processing and network analysis to examine how advocacy organizations stimulate conversation on social media.\" Proceedings of the National Academy of Sciences of the United States of America 113.42 (October 2016): 11823-11828. Full Text. fue publicado en el journal: Proceedings of the National Academy of Sciences of the United States of America 113.42\n",
      "El paper \", \"Bail, CA. \"Emotional Feedback and the Viral Spread of Social Media Messages About Autism Spectrum Disorders.\" American journal of public health 106.7 (July 2016): 1173-1180. Full Text. fue publicado en el journal: American journal of public health 106.7\n",
      "El paper \", \"Bail, CA. \"The public life of secrets: Deception, disclosure, and discursive framing in the policy process.\" Sociological Theory 33.2 (January 1, 2015): 97-124. Full Text. fue publicado en el journal: Sociological Theory 33.2\n",
      "El paper \", \"Bail, CA. \"The cultural environment: Measuring culture with big data.\" Theory and Society 43.3 (January 1, 2014): 465-524. Full Text. fue publicado en el journal: Theory and Society 43.3\n"
     ]
    }
   ],
   "source": [
    "papers = re.split(\"\\n\",ob3)\n",
    "nombre_journals = re.findall(\"[\\\" ] (\\w.*\\d) \",ob3)\n",
    "frases_2 =[]\n",
    "for i in range(len(papers)):\n",
    "    frases_2.append(\"El paper \" + papers[i] + \" fue publicado en el journal: \" + nombre_journals[i] )\n",
    "    print(frases_2[i])"
   ]
  },
  {
   "cell_type": "markdown",
   "metadata": {},
   "source": [
    "### 6. [10 puntos]\n",
    "\n",
    "\n",
    "Vamos a hacer \"scraping\" a esta página: https://archive.ics.uci.edu/ml/datasets.php, que contiene un listado de 468 bases de datos que hacen parte del repositorio de la Universidad de California, Irvine."
   ]
  },
  {
   "cell_type": "markdown",
   "metadata": {},
   "source": [
    "\n",
    "Su tarea consiste en crear un \"Pandas dataframe\" que contenga 468 filas (una por base de datos) y las siguientes columnas:\n",
    "- Nombre de la base de datos\n",
    "- Link a la base de datos\n",
    "- Tipo de datos\n",
    "- Tipo de tarea a resolver (default task)\n",
    "- Tipo de las variables\n",
    "- Número de observaciones\n",
    "- Número de variables\n",
    "- Año\n",
    "- Descripción de la base (Pista: Utilice la opción list view: https://archive.ics.uci.edu/ml/datasets.php?format=&task=&att=&area=&numAtt=&numIns=&type=&sort=nameUp&view=list)"
   ]
  },
  {
   "cell_type": "markdown",
   "metadata": {},
   "source": [
    "Diviértase."
   ]
  },
  {
   "cell_type": "code",
   "execution_count": 10,
   "metadata": {},
   "outputs": [],
   "source": [
    "# Importamos las librerias \n",
    "\n",
    "import pandas as pd\n",
    "import numpy as np\n",
    "import requests\n",
    "from bs4 import BeautifulSoup as bs"
   ]
  },
  {
   "cell_type": "code",
   "execution_count": 11,
   "metadata": {},
   "outputs": [],
   "source": [
    "# Enviamos un requerimiento \n",
    "\n",
    "url = 'http://archive.ics.uci.edu/ml/datasets.php'\n",
    "page = requests.get(url)\n",
    "data = page.text\n",
    "page_soup = bs(data,'html.parser')\n",
    "#page_soup"
   ]
  },
  {
   "cell_type": "code",
   "execution_count": 12,
   "metadata": {},
   "outputs": [],
   "source": [
    "# Leer información\n",
    "Elementos = page_soup.find_all(class_='normal')\n",
    "Links = page_soup.find_all(\"a\",href=True)"
   ]
  },
  {
   "cell_type": "code",
   "execution_count": 13,
   "metadata": {},
   "outputs": [],
   "source": [
    "# Recolectamos los datos de Nombre:\n",
    "Nombre = []\n",
    "for i in range(9,len(Elementos)-7,7):\n",
    "    Nombre.append(Elementos[i].text.strip())\n",
    "#Nombre"
   ]
  },
  {
   "cell_type": "code",
   "execution_count": 14,
   "metadata": {},
   "outputs": [],
   "source": [
    "# Recolectamos el link de las bases de datos:\n",
    "Link = []\n",
    "for i in range(45,len(Links)-6,2):\n",
    "    Link.append(\"http://archive.ics.uci.edu/ml/\"+Links[i].get(\"href\"))\n",
    "#Link"
   ]
  },
  {
   "cell_type": "code",
   "execution_count": 15,
   "metadata": {},
   "outputs": [],
   "source": [
    "# Recolectamos los datos del tipo de datos:\n",
    "Data_Type = []\n",
    "for i in range(10,len(Elementos)-6,7):\n",
    "    Data_Type.append(Elementos[i].text.strip())\n",
    "#Data_Type"
   ]
  },
  {
   "cell_type": "code",
   "execution_count": 16,
   "metadata": {},
   "outputs": [],
   "source": [
    "# Recolectamos los datos de tipo de tarea a resolver (default task)\n",
    "Default_Task = []\n",
    "for i in range(11,len(Elementos)-5,7):\n",
    "    Default_Task.append(Elementos[i].text.strip())\n",
    "#Default_Task"
   ]
  },
  {
   "cell_type": "code",
   "execution_count": 17,
   "metadata": {},
   "outputs": [],
   "source": [
    "# Recolectamos los datos de tipo de variable:\n",
    "Attribute_Types = []\n",
    "for i in range(12,len(Elementos)-4,7):\n",
    "    Attribute_Types.append(Elementos[i].text.strip())\n",
    "#Attribute_Types"
   ]
  },
  {
   "cell_type": "code",
   "execution_count": 18,
   "metadata": {},
   "outputs": [],
   "source": [
    "# Recolectamos los datos de Número de observaciones:\n",
    "Instances = []\n",
    "for i in range(13,len(Elementos)-3,7):\n",
    "    Instances.append(Elementos[i].text.strip())\n",
    "#Instances"
   ]
  },
  {
   "cell_type": "code",
   "execution_count": 19,
   "metadata": {},
   "outputs": [],
   "source": [
    "# Recolectamos los datos de Número de Variables:\n",
    "Attributes = []\n",
    "for i in range(14,len(Elementos)-2,7):\n",
    "    Attributes.append(Elementos[i].text.strip())\n",
    "#Attributes"
   ]
  },
  {
   "cell_type": "code",
   "execution_count": 20,
   "metadata": {},
   "outputs": [],
   "source": [
    "# Recolectamos los datos de Año:\n",
    "Year = []\n",
    "for i in range(15,len(Elementos)-1,7):\n",
    "    Year.append(Elementos[i].text.strip())\n",
    "#Year"
   ]
  },
  {
   "cell_type": "code",
   "execution_count": 21,
   "metadata": {},
   "outputs": [],
   "source": [
    "### DESCRIPCIONES ###\n",
    "url_desc = \"https://archive.ics.uci.edu/ml/datasets.php?format=&task=&att=&area=&numAtt=&numIns=&type=&sort=nameUp&view=list\"\n",
    "page_desc = requests.get(url_desc)\n",
    "data_desc = page_desc.text\n",
    "page_desc_soup = bs(data_desc,'html.parser')"
   ]
  },
  {
   "cell_type": "code",
   "execution_count": 22,
   "metadata": {},
   "outputs": [],
   "source": [
    "#Recolectamos las descriciones:\n",
    "\n",
    "Descripciones = page_desc_soup.find_all(class_=\"normal\")\n",
    "\n",
    "Descripcion =[]\n",
    "for item in range(9,len(Elementos)-7,7):\n",
    "    for i in range(9,len(Descripciones),1):\n",
    "        if (Elementos[item](\"a\")==Descripciones[i](\"a\")):       \n",
    "            Descripcion.append(Descripciones[i].text[3:len(Descripciones[i].text)])\n",
    "        \n",
    "#Descripcion"
   ]
  },
  {
   "cell_type": "code",
   "execution_count": 23,
   "metadata": {},
   "outputs": [],
   "source": [
    "#Creamos el dataframe:\n",
    "\n",
    "indices = np.arange(1,len(Nombre)+1)\n",
    "df = pd.DataFrame({\"Nombre\":Nombre, \"Link\":Link, \"Tipo Dato\":Data_Type, \"Tipo Tarea\":Default_Task,\n",
    "                   \"Tipo Variable\":Attribute_Types, \"# Observaciones\":Instances,\"# Variables\":Attributes, \n",
    "                   \"Año\":Year, \"Descripción\":Descripcion}, index=indices)"
   ]
  },
  {
   "cell_type": "code",
   "execution_count": 24,
   "metadata": {},
   "outputs": [
    {
     "data": {
      "text/html": [
       "<div>\n",
       "<style scoped>\n",
       "    .dataframe tbody tr th:only-of-type {\n",
       "        vertical-align: middle;\n",
       "    }\n",
       "\n",
       "    .dataframe tbody tr th {\n",
       "        vertical-align: top;\n",
       "    }\n",
       "\n",
       "    .dataframe thead th {\n",
       "        text-align: right;\n",
       "    }\n",
       "</style>\n",
       "<table border=\"1\" class=\"dataframe\">\n",
       "  <thead>\n",
       "    <tr style=\"text-align: right;\">\n",
       "      <th></th>\n",
       "      <th>Nombre</th>\n",
       "      <th>Link</th>\n",
       "      <th>Tipo Dato</th>\n",
       "      <th>Tipo Tarea</th>\n",
       "      <th>Tipo Variable</th>\n",
       "      <th># Observaciones</th>\n",
       "      <th># Variables</th>\n",
       "      <th>Año</th>\n",
       "      <th>Descripción</th>\n",
       "    </tr>\n",
       "  </thead>\n",
       "  <tbody>\n",
       "    <tr>\n",
       "      <td>1</td>\n",
       "      <td>Abalone</td>\n",
       "      <td>http://archive.ics.uci.edu/ml/datasets/Abalone</td>\n",
       "      <td>Multivariate</td>\n",
       "      <td>Classification</td>\n",
       "      <td>Categorical, Integer, Real</td>\n",
       "      <td>4177</td>\n",
       "      <td>8</td>\n",
       "      <td>1995</td>\n",
       "      <td>Abalone: Predict the age of abalone from physi...</td>\n",
       "    </tr>\n",
       "    <tr>\n",
       "      <td>2</td>\n",
       "      <td>Adult</td>\n",
       "      <td>http://archive.ics.uci.edu/ml/datasets/Adult</td>\n",
       "      <td>Multivariate</td>\n",
       "      <td>Classification</td>\n",
       "      <td>Categorical, Integer</td>\n",
       "      <td>48842</td>\n",
       "      <td>14</td>\n",
       "      <td>1996</td>\n",
       "      <td>Adult: Predict whether income exceeds $50K/yr...</td>\n",
       "    </tr>\n",
       "    <tr>\n",
       "      <td>3</td>\n",
       "      <td>Annealing</td>\n",
       "      <td>http://archive.ics.uci.edu/ml/datasets/Annealing</td>\n",
       "      <td>Multivariate</td>\n",
       "      <td>Classification</td>\n",
       "      <td>Categorical, Integer, Real</td>\n",
       "      <td>798</td>\n",
       "      <td>38</td>\n",
       "      <td></td>\n",
       "      <td>Annealing: Steel annealing data</td>\n",
       "    </tr>\n",
       "    <tr>\n",
       "      <td>4</td>\n",
       "      <td>Anonymous Microsoft Web Data</td>\n",
       "      <td>http://archive.ics.uci.edu/ml/datasets/Anonymo...</td>\n",
       "      <td></td>\n",
       "      <td>Recommender-Systems</td>\n",
       "      <td>Categorical</td>\n",
       "      <td>37711</td>\n",
       "      <td>294</td>\n",
       "      <td>1998</td>\n",
       "      <td>Anonymous Microsoft Web Data: Log of anonymou...</td>\n",
       "    </tr>\n",
       "    <tr>\n",
       "      <td>5</td>\n",
       "      <td>Arrhythmia</td>\n",
       "      <td>http://archive.ics.uci.edu/ml/datasets/Arrhythmia</td>\n",
       "      <td>Multivariate</td>\n",
       "      <td>Classification</td>\n",
       "      <td>Categorical, Integer, Real</td>\n",
       "      <td>452</td>\n",
       "      <td>279</td>\n",
       "      <td>1998</td>\n",
       "      <td>Arrhythmia: Distinguish between the presence ...</td>\n",
       "    </tr>\n",
       "    <tr>\n",
       "      <td>...</td>\n",
       "      <td>...</td>\n",
       "      <td>...</td>\n",
       "      <td>...</td>\n",
       "      <td>...</td>\n",
       "      <td>...</td>\n",
       "      <td>...</td>\n",
       "      <td>...</td>\n",
       "      <td>...</td>\n",
       "      <td>...</td>\n",
       "    </tr>\n",
       "    <tr>\n",
       "      <td>493</td>\n",
       "      <td>A study of  Asian Religious and Biblical Texts</td>\n",
       "      <td>http://archive.ics.uci.edu/ml/datasets/A+study...</td>\n",
       "      <td>Multivariate, Text</td>\n",
       "      <td>Classification, Clustering</td>\n",
       "      <td>Integer</td>\n",
       "      <td>590</td>\n",
       "      <td>8265</td>\n",
       "      <td>2019</td>\n",
       "      <td>A study of  Asian Religious and Biblical Texts...</td>\n",
       "    </tr>\n",
       "    <tr>\n",
       "      <td>494</td>\n",
       "      <td>Real-time Election Results: Portugal 2019</td>\n",
       "      <td>http://archive.ics.uci.edu/ml/datasets/Real-ti...</td>\n",
       "      <td>Multivariate, Time-Series, Text</td>\n",
       "      <td>Regression</td>\n",
       "      <td>Integer, Real</td>\n",
       "      <td>21643</td>\n",
       "      <td>29</td>\n",
       "      <td>2019</td>\n",
       "      <td>. Real-time Election Results: Portugal 2019: D...</td>\n",
       "    </tr>\n",
       "    <tr>\n",
       "      <td>495</td>\n",
       "      <td>Bias correction of numerical prediction model ...</td>\n",
       "      <td>http://archive.ics.uci.edu/ml/datasets/Bias+co...</td>\n",
       "      <td>Multivariate</td>\n",
       "      <td>Regression</td>\n",
       "      <td>Real</td>\n",
       "      <td>7750</td>\n",
       "      <td>25</td>\n",
       "      <td>2020</td>\n",
       "      <td>Bias correction of numerical prediction model...</td>\n",
       "    </tr>\n",
       "    <tr>\n",
       "      <td>496</td>\n",
       "      <td>Bar Crawl: Detecting Heavy Drinking</td>\n",
       "      <td>http://archive.ics.uci.edu/ml/datasets/Bar+Cra...</td>\n",
       "      <td>Multivariate, Time-Series</td>\n",
       "      <td>Classification, Regression</td>\n",
       "      <td>Real</td>\n",
       "      <td>14057567</td>\n",
       "      <td>3</td>\n",
       "      <td>2020</td>\n",
       "      <td>Bar Crawl: Detecting Heavy Drinking: Accelero...</td>\n",
       "    </tr>\n",
       "    <tr>\n",
       "      <td>497</td>\n",
       "      <td>Kitsune Network Attack Dataset</td>\n",
       "      <td>http://archive.ics.uci.edu/ml/datasets/Kitsune...</td>\n",
       "      <td>Multivariate, Sequential, Time-Series</td>\n",
       "      <td>Classification, Clustering, Causal-Discovery</td>\n",
       "      <td>Real</td>\n",
       "      <td>27170754</td>\n",
       "      <td>115</td>\n",
       "      <td>2019</td>\n",
       "      <td>. Kitsune Network Attack Dataset: A cybersecur...</td>\n",
       "    </tr>\n",
       "  </tbody>\n",
       "</table>\n",
       "<p>497 rows × 9 columns</p>\n",
       "</div>"
      ],
      "text/plain": [
       "                                                Nombre  \\\n",
       "1                                              Abalone   \n",
       "2                                                Adult   \n",
       "3                                            Annealing   \n",
       "4                         Anonymous Microsoft Web Data   \n",
       "5                                           Arrhythmia   \n",
       "..                                                 ...   \n",
       "493     A study of  Asian Religious and Biblical Texts   \n",
       "494          Real-time Election Results: Portugal 2019   \n",
       "495  Bias correction of numerical prediction model ...   \n",
       "496                Bar Crawl: Detecting Heavy Drinking   \n",
       "497                     Kitsune Network Attack Dataset   \n",
       "\n",
       "                                                  Link  \\\n",
       "1       http://archive.ics.uci.edu/ml/datasets/Abalone   \n",
       "2         http://archive.ics.uci.edu/ml/datasets/Adult   \n",
       "3     http://archive.ics.uci.edu/ml/datasets/Annealing   \n",
       "4    http://archive.ics.uci.edu/ml/datasets/Anonymo...   \n",
       "5    http://archive.ics.uci.edu/ml/datasets/Arrhythmia   \n",
       "..                                                 ...   \n",
       "493  http://archive.ics.uci.edu/ml/datasets/A+study...   \n",
       "494  http://archive.ics.uci.edu/ml/datasets/Real-ti...   \n",
       "495  http://archive.ics.uci.edu/ml/datasets/Bias+co...   \n",
       "496  http://archive.ics.uci.edu/ml/datasets/Bar+Cra...   \n",
       "497  http://archive.ics.uci.edu/ml/datasets/Kitsune...   \n",
       "\n",
       "                                 Tipo Dato  \\\n",
       "1                             Multivariate   \n",
       "2                             Multivariate   \n",
       "3                             Multivariate   \n",
       "4                                            \n",
       "5                             Multivariate   \n",
       "..                                     ...   \n",
       "493                     Multivariate, Text   \n",
       "494        Multivariate, Time-Series, Text   \n",
       "495                           Multivariate   \n",
       "496              Multivariate, Time-Series   \n",
       "497  Multivariate, Sequential, Time-Series   \n",
       "\n",
       "                                       Tipo Tarea               Tipo Variable  \\\n",
       "1                                  Classification  Categorical, Integer, Real   \n",
       "2                                  Classification        Categorical, Integer   \n",
       "3                                  Classification  Categorical, Integer, Real   \n",
       "4                             Recommender-Systems                 Categorical   \n",
       "5                                  Classification  Categorical, Integer, Real   \n",
       "..                                            ...                         ...   \n",
       "493                    Classification, Clustering                     Integer   \n",
       "494                                    Regression               Integer, Real   \n",
       "495                                    Regression                        Real   \n",
       "496                    Classification, Regression                        Real   \n",
       "497  Classification, Clustering, Causal-Discovery                        Real   \n",
       "\n",
       "    # Observaciones # Variables   Año  \\\n",
       "1              4177           8  1995   \n",
       "2             48842          14  1996   \n",
       "3               798          38         \n",
       "4             37711         294  1998   \n",
       "5               452         279  1998   \n",
       "..              ...         ...   ...   \n",
       "493             590        8265  2019   \n",
       "494           21643          29  2019   \n",
       "495            7750          25  2020   \n",
       "496        14057567           3  2020   \n",
       "497        27170754         115  2019   \n",
       "\n",
       "                                           Descripción  \n",
       "1    Abalone: Predict the age of abalone from physi...  \n",
       "2     Adult: Predict whether income exceeds $50K/yr...  \n",
       "3                      Annealing: Steel annealing data  \n",
       "4     Anonymous Microsoft Web Data: Log of anonymou...  \n",
       "5     Arrhythmia: Distinguish between the presence ...  \n",
       "..                                                 ...  \n",
       "493  A study of  Asian Religious and Biblical Texts...  \n",
       "494  . Real-time Election Results: Portugal 2019: D...  \n",
       "495   Bias correction of numerical prediction model...  \n",
       "496   Bar Crawl: Detecting Heavy Drinking: Accelero...  \n",
       "497  . Kitsune Network Attack Dataset: A cybersecur...  \n",
       "\n",
       "[497 rows x 9 columns]"
      ]
     },
     "execution_count": 24,
     "metadata": {},
     "output_type": "execute_result"
    }
   ],
   "source": [
    "#df = df.sort_values(by=['Nombre'])\n",
    "\n",
    "df"
   ]
  },
  {
   "cell_type": "markdown",
   "metadata": {},
   "source": [
    "-----"
   ]
  }
 ],
 "metadata": {
  "anaconda-cloud": {},
  "kernelspec": {
   "display_name": "Python 3",
   "language": "python",
   "name": "python3"
  },
  "language_info": {
   "codemirror_mode": {
    "name": "ipython",
    "version": 3
   },
   "file_extension": ".py",
   "mimetype": "text/x-python",
   "name": "python",
   "nbconvert_exporter": "python",
   "pygments_lexer": "ipython3",
   "version": "3.7.4"
  }
 },
 "nbformat": 4,
 "nbformat_minor": 1
}
